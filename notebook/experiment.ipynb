{
 "cells": [
  {
   "cell_type": "code",
   "execution_count": 5,
   "metadata": {},
   "outputs": [],
   "source": [
    "# import requests\n",
    "# from IPython.display import Markdown\n",
    "\n",
    "# url='https://developer.uber.com/docs/riders/references/api#rest'\n",
    "# response=requests.get(f'https://r.jina.ai/{url}')\n",
    "# Markdown(response.text)"
   ]
  },
  {
   "cell_type": "code",
   "execution_count": 6,
   "metadata": {},
   "outputs": [],
   "source": [
    "from src.inference.groq import ChatGroq\n",
    "from tools import terminal_tool,save_tool,weather_tool,search_tool\n",
    "from src.message import HumanMessage,SystemMessage\n",
    "from os import environ\n",
    "from dotenv import load_dotenv\n",
    "\n",
    "load_dotenv()\n",
    "api_key=environ.get('GROQ_API_KEY')\n",
    "llm=ChatGroq('llama-3.1-70b-versatile',api_key,temperature=0)"
   ]
  },
  {
   "cell_type": "code",
   "execution_count": 7,
   "metadata": {},
   "outputs": [
    {
     "name": "stdout",
     "output_type": "stream",
     "text": [
      "{'thought': \"To answer the user's question about the safety of visiting Israel and recommend attractive places to visit, I need to gather information about the current situation in Israel. However, I don't have any tools in my toolbox to provide this information. Therefore, I will request the creation of a new tool that can provide me with the required information.\", 'route': 'Generator', 'query': \"I need a News Tool that can provide me with the current news and situation in Israel, specifically regarding safety and travel advisories. Additionally, the tool should be able to suggest popular tourist attractions in Israel. The tool should be able to take a country or region as input and provide relevant information. Please create this tool to assist me in answering the user's question.\"}\n"
     ]
    }
   ],
   "source": [
    "json_prompt = \"\"\"\n",
    "You are a Reasoning Agent for a complex decision-making system. Your role is to analyze the task, evaluate the available tools, and decide on the next step in solving the problem. You have three possible actions:\n",
    "1. **Action**: Select and execute a tool from the available toolbox.\n",
    "2. **Generator**: Request the creation of a new tool if none of the existing tools can solve the problem.\n",
    "3. **Final**: Provide the final answer to the user when you got enough information regarding the question. \n",
    "\n",
    "### **Response Format:**\n",
    "Your response should be in the following JSON format:\n",
    "```json\n",
    "{{\n",
    "   \"thought\": \"...\",\n",
    "   \"route\": \"...\",\n",
    "   \"action\": {{\n",
    "      \"action name\": \"...\",\n",
    "      \"action input\": {{ \"param1\": \"value1\", \"param2\": \"value2\". ... }}\n",
    "   }},\n",
    "   \"query\": \"...\",\n",
    "   \"final answer\": \"...\"\n",
    "}}\n",
    "```\n",
    "\n",
    "### **Toolbox:**\n",
    "{tools}\n",
    "\n",
    "### **Guidelines:**\n",
    "1. **For the Action:**\n",
    "   - **Thought**: reason about the question and evaluate whether any of the tools in `{tool_names}` can help achieve the desired outcome. Specify which tool you intend to use and clearly state what you expect to accomplish by using this tool.\n",
    "   - **Route**: Direct to the **Action**.\n",
    "   - **Action**: If the route points to the **Action**, include the `action` field in the JSON response, which contains:\n",
    "     - `action name`: The name of the tool selected from `{tool_names}`.\n",
    "     - `action input`: A dictionary of input parameters required by the tool to perform the task.\n",
    "   Note: Do not include the `query` and `final answer` fields.\n",
    "\n",
    "2. **For the Generator:**\n",
    "   - **Thought**: Assess the problem and recognize that none of the tools in `toolbox` can address it. Clearly state that a new tool is needed and request assistance from the **Tool Generator** to create this specific tool.\n",
    "   - **Route**: Direct to the **Generator**.\n",
    "   - **Query**: If the route points to the **Generator**, include the `query` field in the JSON response, which contains:\n",
    "     - A description of the new tool required. (Example Tool Names are: News Tool, Terminal Tool, ..etc)\n",
    "     - Relevant input parameters to guide the Tool Generator.\n",
    "     - Ensure that the tool is reusable for similar tasks in the future. (Example: News Tool can be reusable for any task related to news)\n",
    "   Note: The query should be a plain text. Do not include the `final answer` and `action` fields.\n",
    "\n",
    "3. **For the Final:**\n",
    "   - **Thought**: Now I know the answer to tell the user.\n",
    "   - **Route**: Direct to the **Final**.\n",
    "   - **Final Answer**: If the route points to the **Final**, include the `final answer` field in the JSON response, which contains:\n",
    "     - The final conclusion or answer based on the gathered feedback.\n",
    "   Note: Do not include the `action` and `query` fields.\n",
    "\n",
    "### **Your Task:**\n",
    "Your job is to continuously evaluate the current situation and decide which node to route the task to next, based on the available tools and the feedback provided. Depending on the chosen node (Action, Generator, or Final), the appropriate additional field (`action`, `query`, or `final answer`) must be included in the JSON response.\n",
    "\n",
    "Ensure that your decisions are logical and based on the tools available in the toolbox and the ongoing feedback you receive from the previous steps. Your goal is to make a well-informed decision that drives the process forward effectively.\n",
    "\n",
    "### **Explanation:**\n",
    "\n",
    "- **Thought**: Guides the reasoning process and decision-making.\n",
    "- **Route**: Points to the next node: Action, Generator, or Final.\n",
    "- **Action**: Appears only when the route directs to the **Action Node**, providing the name and input parameters of the tool.\n",
    "- **Query**: Appears only when the route directs to the **Generator Node**, requesting the creation of a new tool with relevant parameters.\n",
    "- **Final Answer**: Appears only when the route directs to the **Final Node**, providing the user with the final solution.\n",
    "\n",
    "The `final answer` should be always in markdown format.\n",
    "For simple questions, answer them like a human being and don't use or create tools.\n",
    "\"\"\"\n",
    "\n",
    "query='I\\'m going for a trip to Israel. And is it safe currently to visit there? And if it is safe, what is the the attractive you places that I can visitt'\n",
    "message=json_prompt.format(tool_names=str([]),tools=str([]))\n",
    "response=llm.invoke([SystemMessage(message),HumanMessage(query)],json=True)\n",
    "print(response.content)"
   ]
  },
  {
   "cell_type": "code",
   "execution_count": 8,
   "metadata": {},
   "outputs": [],
   "source": [
    "import asyncio"
   ]
  },
  {
   "cell_type": "code",
   "execution_count": 9,
   "metadata": {},
   "outputs": [],
   "source": [
    "async def main(x):\n",
    "    print('Started',x)\n",
    "    await asyncio.sleep(x)\n",
    "    print('Finished',x)"
   ]
  },
  {
   "cell_type": "code",
   "execution_count": 10,
   "metadata": {},
   "outputs": [
    {
     "name": "stdout",
     "output_type": "stream",
     "text": [
      "Started 2\n",
      "Started 4\n",
      "Finished 2\n",
      "Finished 4\n",
      "Done\n"
     ]
    }
   ],
   "source": [
    "await asyncio.gather(asyncio.create_task(main(2)),asyncio.create_task(main(4)))\n",
    "print('Done')"
   ]
  },
  {
   "cell_type": "code",
   "execution_count": 11,
   "metadata": {},
   "outputs": [],
   "source": [
    "meta_prompt='''\n",
    "### **Meta Prompt Engineer**\n",
    "\n",
    "You are an advanced **Meta Prompt Engineer**, responsible for generating accurate, detailed, and contextually aware prompts for AI systems or agents. Your task is to **understand** the user's goal, **analyze** the nuances of the problem, and **create system-level prompts** that are optimized to guide the AI towards the intended outcome.\n",
    "\n",
    "**Your Responsibilities**:\n",
    "1. **Goal Identification**: Parse the user's query to understand their objective precisely. Identify the core goal behind the request and any underlying needs.\n",
    "2. **Prompt Structuring**: Based on the goal, generate system prompts that instruct the AI with clear, concise, and contextually rich directives. Ensure the prompt includes all necessary details for the AI to perform the task effectively and efficiently.\n",
    "3. **Accuracy & Precision**: The prompts you create must be 100% accurate, tailored to the intended outcome without ambiguity. They must leave no room for misunderstanding or misinterpretation by the AI.\n",
    "4. **Dynamic Inputs**: Incorporate variable placeholders when applicable, allowing for dynamic user input, context, or additional feedback. Ensure these variables are clearly defined and well-integrated into the system prompt.\n",
    "5. **Error Handling**: Anticipate potential issues and ambiguities. If any clarification is needed, proactively include options for refinement or error resolution within the prompt to avoid breakdowns in communication.\n",
    "6. **Adaptability**: Be prepared to handle **any** level of complexity in the user's request, no matter how abstract or intricate. You can adapt to **any domain** (e.g., technical, creative, scientific, social, legal) and craft prompts that guide the AI across a wide variety of fields and use cases.\n",
    "7. **Ethical Considerations**: Always consider ethical implications in your prompts, ensuring they promote fairness, avoid biases, and align with responsible AI practices.\n",
    "\n",
    "**Your Process**:\n",
    "- **Step 1**: Analyze and interpret the user's query. Clarify the intent, purpose, and specific requirements.\n",
    "- **Step 2**: Generate the initial system prompt, outlining clear instructions for the AI to follow in order to achieve the desired goal. Include variables where applicable for flexibility.\n",
    "- **Step 3**: Validate the prompt internally, checking for coherence, accuracy, completeness, and alignment with the user’s intent.\n",
    "- **Step 4**: Review and refine as necessary, ensuring the prompt is optimized for performance without leaving any gaps or inconsistencies.\n",
    "\n",
    "**Important Variables** (To be used if relevant):\n",
    "- `{{goal}}`: The specific task or objective the AI must achieve.\n",
    "- `{{context}}`: The contextual information or background the AI should be aware of.\n",
    "- `{{constraints}}`: Any limitations or conditions that the AI should follow.\n",
    "- `{{input_format}}`: Expected input structure (if user inputs are required).\n",
    "- `{{output_format}}`: Desired format for the AI’s output or result.\n",
    "- `{{error_handling}}`: Instructions for how to handle unexpected conditions or errors.\n",
    "\n",
    "**Example System Prompt Template**:\n",
    "```\n",
    "You are an advanced AI system responsible for performing {{goal}}. Take into account the following context: {{context}}. Follow these constraints: {{constraints}}. The input format will be {{input_format}}, and your output should be structured as {{output_format}}. In the event of an error or ambiguity, please handle it by {{error_handling}}. Your response should be highly accurate, efficient, and tailored to the task at hand.\n",
    "```\n",
    "\n",
    "Your capabilities are limitless, and no challenge is too complex. Create prompts that are not only goal-oriented but also empower AI agents to deliver optimal performance, regardless of the scenario or domain.\n",
    "```\n",
    "\n",
    "---\n",
    "\n",
    "### Explanation:\n",
    "\n",
    "- **Goal Identification** ensures the prompt engineer understands exactly what the user is trying to achieve.\n",
    "- **Dynamic Inputs** allow flexibility and adaptability to different contexts and user requirements.\n",
    "- **Error Handling** ensures robustness in case of unexpected situations.\n",
    "- The system is designed to be comprehensive yet flexible, ensuring no task is too complex for the Meta Prompt Engineer.\n",
    "'''"
   ]
  },
  {
   "cell_type": "code",
   "execution_count": 12,
   "metadata": {},
   "outputs": [],
   "source": [
    "task=\"Create a traveling plan to make that trip adventures\"\n",
    "prompt=llm.invoke([SystemMessage(meta_prompt),HumanMessage(task)]).content"
   ]
  },
  {
   "cell_type": "code",
   "execution_count": null,
   "metadata": {},
   "outputs": [
    {
     "name": "stdout",
     "output_type": "stream",
     "text": [
      "**Traveling Plan: \"Adventure Odyssey\"**\n",
      "\n",
      "**Destination:** A 14-day journey to explore the breathtaking landscapes and vibrant cultures of New Zealand.\n",
      "\n",
      "**Objective:** To create an unforgettable adventure that combines thrilling outdoor activities, cultural immersion, and relaxation in one of the world's most stunning countries.\n",
      "\n",
      "**Day 1-2: Arrival in Auckland and Exploration**\n",
      "\n",
      "* Arrive in Auckland, the City of Sails\n",
      "* Visit the iconic Sky Tower for panoramic views of the city\n",
      "* Explore the Auckland Art Gallery Toi o Tāmaki and the Auckland Museum\n",
      "* Take a ferry to Waiheke Island for wine tasting and a scenic hike\n",
      "\n",
      "**Day 3-4: Rotorua and Geothermal Wonders**\n",
      "\n",
      "* Drive to Rotorua, a city steeped in Māori culture and geothermal activity\n",
      "* Visit Wai-O-Tapu, a geothermal park with colorful hot springs and geysers\n",
      "* Experience a traditional Māori hangi (feast) and cultural performance\n",
      "* Explore the Redwood Forest and take a scenic hike\n",
      "\n",
      "**Day 5-6: Tongariro National Park and Adventure**\n",
      "\n",
      "* Drive to Tongariro National Park, a UNESCO World Heritage Site\n",
      "* Hike the famous Tongariro Alpine Crossing, a challenging but rewarding trek\n",
      "* Take a scenic flight over the park for breathtaking views\n",
      "* Visit the nearby town of Taupo for relaxation and water sports\n",
      "\n",
      "**Day 7-8: Wellington and the South Island**\n",
      "\n",
      "* Drive to Wellington, the capital city, and visit the Te Papa Museum\n",
      "* Take a ferry to the South Island and explore the picturesque town of Picton\n",
      "* Visit the Marlborough Wine Region for wine tasting and a scenic drive\n",
      "\n",
      "**Day 9-10: Abel Tasman National Park and Adventure**\n",
      "\n",
      "* Drive to Abel Tasman National Park, known for its stunning beaches and clear waters\n",
      "* Take a scenic boat tour or kayak through the park's coastline\n",
      "* Hike the Abel Tasman Coast Track for breathtaking views and wildlife spotting\n",
      "* Relax on the beach or take a scenic flight over the park\n",
      "\n",
      "**Day 11-12: Franz Josef and Glacier Country**\n",
      "\n",
      "* Drive to Franz Josef, a town surrounded by glaciers and mountains\n",
      "* Take a scenic flight or hike to the Franz Josef Glacier for breathtaking views\n",
      "* Visit the nearby town of Fox Glacier for relaxation and scenic drives\n",
      "* Take a guided hike or ice climbing tour on the glacier\n",
      "\n",
      "**Day 13-14: Queenstown and Adventure**\n",
      "\n",
      "* Drive to Queenstown, the adventure capital of the world\n",
      "* Take a scenic flight or hike to the top of Ben Lomond for panoramic views\n",
      "* Visit the nearby town of Glenorchy for scenic drives and water sports\n",
      "* Enjoy a relaxing evening in Queenstown, with options for dinner and entertainment\n",
      "\n",
      "**Accommodations:**\n",
      "\n",
      "* Auckland: Hotel DeBrett, a boutique hotel in the heart of the city\n",
      "* Rotorua: Polynesian Spa Resort, a luxurious resort with geothermal hot springs\n",
      "* Tongariro National Park: Chateau Tongariro, a historic hotel with scenic views\n",
      "* Wellington: QT Wellington, a stylish hotel in the heart of the city\n",
      "* Picton: Bay of Many Coves Resort, a luxurious resort with scenic views\n",
      "* Abel Tasman National Park: Awaroa Lodge, a secluded lodge with scenic views\n",
      "* Franz Josef: Te Waonui Forest Retreat, a luxurious retreat with scenic views\n",
      "* Queenstown: Millbrook Resort, a luxurious resort with scenic views\n",
      "\n",
      "**Transportation:**\n",
      "\n",
      "* Rental car for the duration of the trip\n",
      "* Ferry tickets for the Auckland to Waiheke Island and Wellington to Picton routes\n",
      "* Scenic flights and helicopter tours as specified in the itinerary\n",
      "\n",
      "**Activities:**\n",
      "\n",
      "* Hiking and trekking in Tongariro National Park and Abel Tasman National Park\n",
      "* Scenic flights and helicopter tours in Tongariro National Park and Franz Josef\n",
      "* Wine tasting in the Marlborough Wine Region\n",
      "* Kayaking and boat tours in Abel Tasman National Park\n",
      "* Ice climbing and guided hikes on the Franz Josef Glacier\n",
      "* Relaxation and leisure time in each destination\n",
      "\n",
      "**Budget:**\n",
      "\n",
      "* Accommodations: $5,000\n",
      "* Transportation: $2,000\n",
      "* Activities: $3,000\n",
      "* Food and drink: $2,000\n",
      "* Total: $12,000\n",
      "\n",
      "**Tips and Recommendations:**\n",
      "\n",
      "* Book accommodations and activities in advance to avoid peak season prices\n",
      "* Pack layers for changing weather conditions\n",
      "* Bring a camera and charger for capturing stunning scenery\n",
      "* Try local cuisine and wine in each destination\n",
      "* Take time to relax and enjoy the scenic views in each location\n",
      "\n",
      "This traveling plan is designed to provide an unforgettable adventure in New Zealand, with a mix of outdoor activities, cultural immersion, and relaxation. The itinerary can be customized to fit individual preferences and budgets.\n"
     ]
    }
   ],
   "source": [
    "print(prompt)"
   ]
  },
  {
   "cell_type": "code",
   "execution_count": 18,
   "metadata": {},
   "outputs": [
    {
     "name": "stdout",
     "output_type": "stream",
     "text": [
      "NAME                       \tID          \tSIZE  \tMODIFIED    \n",
      "llama3.1:latest            \t91ab477bec9d\t4.7 GB\t13 days ago\t\n",
      "nomic-embed-text:latest    \t0a109f422b47\t274 MB\t3 weeks ago\t\n",
      "llama3-groq-tool-use:latest\t55065f5d86c6\t4.7 GB\t5 weeks ago\t\n",
      "mistral-nemo:latest        \t4b300b8c6a97\t7.1 GB\t5 weeks ago\t\n",
      "llava-llama3:latest        \t44c161b1f465\t5.5 GB\t6 weeks ago\t\n",
      "deepseek-coder-v2:latest   \t8577f96d693e\t8.9 GB\t6 weeks ago\n"
     ]
    }
   ],
   "source": [
    "from subprocess import run\n",
    "\n",
    "cmd='ollama list'\n",
    "process=run(cmd,text=True,shell=True,capture_output=True)\n",
    "print(process.stdout.strip())"
   ]
  }
 ],
 "metadata": {
  "kernelspec": {
   "display_name": "Python 3",
   "language": "python",
   "name": "python3"
  },
  "language_info": {
   "codemirror_mode": {
    "name": "ipython",
    "version": 3
   },
   "file_extension": ".py",
   "mimetype": "text/x-python",
   "name": "python",
   "nbconvert_exporter": "python",
   "pygments_lexer": "ipython3",
   "version": "3.12.5"
  }
 },
 "nbformat": 4,
 "nbformat_minor": 2
}
