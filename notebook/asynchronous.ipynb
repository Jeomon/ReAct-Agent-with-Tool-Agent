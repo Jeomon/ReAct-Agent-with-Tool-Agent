{
 "cells": [
  {
   "cell_type": "code",
   "execution_count": 1,
   "metadata": {},
   "outputs": [],
   "source": [
    "from src.inference.groq import ChatGroq\n",
    "from tools import terminal_tool,save_tool,weather_tool,search_tool\n",
    "from src.message import HumanMessage,SystemMessage\n",
    "from src.agent.tool_generator import ToolGeneratorAgent\n",
    "from os import environ\n",
    "from dotenv import load_dotenv\n",
    "\n",
    "load_dotenv()\n",
    "api_key=environ.get('GROQ_API_KEY')\n",
    "llm=ChatGroq('llama-3.1-70b-versatile',api_key,temperature=0)"
   ]
  },
  {
   "cell_type": "code",
   "execution_count": 2,
   "metadata": {},
   "outputs": [],
   "source": [
    "from asyncio import create_task,wait,gather"
   ]
  },
  {
   "cell_type": "code",
   "execution_count": 3,
   "metadata": {},
   "outputs": [],
   "source": [
    "async def tool_generator(query):\n",
    "    agent=ToolGeneratorAgent(llm=llm,json=True)\n",
    "    return agent.invoke(query)"
   ]
  },
  {
   "cell_type": "code",
   "execution_count": 4,
   "metadata": {},
   "outputs": [],
   "source": [
    "task1=create_task(tool_generator('Create a tool that can find the weather data of a given location. Name it Weather Tool'))\n",
    "task2=create_task(tool_generator('Create a tool that can give the latest news updates. Name it News Tool'))\n",
    "results=await gather(task1,task2)"
   ]
  },
  {
   "cell_type": "code",
   "execution_count": 5,
   "metadata": {},
   "outputs": [
    {
     "name": "stdout",
     "output_type": "stream",
     "text": [
      "class Weather(BaseModel):\n",
      "    location:str=Field(...,description=\"The location to get the weather data for.\")\n",
      "\n",
      "@tool(\"Weather Tool\",args_schema=Weather)\n",
      "def weather_tool(location:str):\n",
      "    \"\"\"\n",
      "    Retrieves the current weather data for the given location using OpenWeatherMap API.\n",
      "    \"\"\"\n",
      "    import requests\n",
      "    import os\n",
      "    import json\n",
      "\n",
      "    api_key=os.environ.get('OPENWEATHERMAP_API_KEY')\n",
      "    try:\n",
      "        base_url=\"http://api.openweathermap.org/data/2.5/weather\"\n",
      "        params={\n",
      "            'q':location,\n",
      "            'appid':api_key,\n",
      "            'units':'metric'\n",
      "        }\n",
      "        response=requests.get(base_url,params=params)\n",
      "        response.raise_for_status()\n",
      "        weather_data=response.json()\n",
      "        return json.dumps(weather_data,indent=4)\n",
      "    except requests.exceptions.HTTPError as errh:\n",
      "        return f\"HTTP Error: {errh}\"\n",
      "    except requests.exceptions.ConnectionError as errc:\n",
      "        return f\"Error Connecting: {errc}\"\n",
      "    except requests.exceptions.Timeout as errt:\n",
      "        return f\"Timeout Error: {errt}\"\n",
      "    except requests.exceptions.RequestException as err:\n",
      "        return f\"Something went wrong: {err}\"\n",
      "class News(BaseModel):\n",
      "    query:str=Field(...,description=\"The query to be searched for news updates.\")\n",
      "\n",
      "@tool(\"News Tool\",args_schema=News)\n",
      "def news_tool(query:str):\n",
      "    '''\n",
      "    Searches for the latest news updates related to the given query using News API and returns the formatted results.\n",
      "    '''\n",
      "    import requests\n",
      "    import os\n",
      "    import json\n",
      "\n",
      "    api_key=os.environ.get('NEWS_API_KEY')\n",
      "    url=f'https://newsapi.org/v2/everything?q={query}&apiKey={api_key}'\n",
      "\n",
      "    try:\n",
      "        response=requests.get(url)\n",
      "        response.raise_for_status()\n",
      "        data=response.json()\n",
      "        results=data['articles']\n",
      "        return '\\n'.join([f\"{result['title']}\\n{result['description']}\\n{result['url']}\" for result in results])\n",
      "    except requests.exceptions.HTTPError as errh:\n",
      "        return f\"HTTP Error: {errh}\"\n",
      "    except requests.exceptions.ConnectionError as errc:\n",
      "        return f\"Error Connecting: {errc}\"\n",
      "    except requests.exceptions.Timeout as errt:\n",
      "        return f\"Timeout Error: {errt}\"\n",
      "    except requests.exceptions.RequestException as err:\n",
      "        return f\"Something went wrong: {err}\"\n"
     ]
    }
   ],
   "source": [
    "for result in results:\n",
    "    print(result['tool'])"
   ]
  }
 ],
 "metadata": {
  "kernelspec": {
   "display_name": "Python 3",
   "language": "python",
   "name": "python3"
  },
  "language_info": {
   "codemirror_mode": {
    "name": "ipython",
    "version": 3
   },
   "file_extension": ".py",
   "mimetype": "text/x-python",
   "name": "python",
   "nbconvert_exporter": "python",
   "pygments_lexer": "ipython3",
   "version": "3.12.5"
  }
 },
 "nbformat": 4,
 "nbformat_minor": 2
}
