{
 "cells": [
  {
   "cell_type": "code",
   "execution_count": 1,
   "metadata": {},
   "outputs": [],
   "source": [
    "from src.agent.react import ReactAgent\n",
    "from src.inference.groq import ChatGroq\n",
    "from tools import terminal_tool,save_tool,weather_tool,search_tool\n",
    "from os import environ\n",
    "from dotenv import load_dotenv\n",
    "from IPython.display import Markdown,display\n",
    "\n",
    "load_dotenv()\n",
    "api_key=environ.get('GROQ_API_KEY')\n",
    "llm=ChatGroq('llama-3.1-70b-versatile',api_key,temperature=0)"
   ]
  },
  {
   "cell_type": "code",
   "execution_count": 3,
   "metadata": {},
   "outputs": [
    {
     "data": {
      "image/jpeg": "[encoded data removed]",
      "text/plain": [
       "<IPython.core.display.Image object>"
      ]
     },
     "metadata": {},
     "output_type": "display_data"
    }
   ],
   "source": [
    "ReactAgent().plot_mermaid()"
   ]
  },
  {
   "cell_type": "code",
   "execution_count": 2,
   "metadata": {},
   "outputs": [
    {
     "name": "stdout",
     "output_type": "stream",
     "text": [
      "Entering AI Agent\n",
      "\u001b[1m\u001b[32mThought: I need to find the latest news updates from Paris Olympics.\u001b[0m\n",
      "\u001b[1m\u001b[36mAction Name: latest_news\u001b[0m\n",
      "\u001b[1m\u001b[36mAction Input: {\n",
      "  \"query\": \"Paris Olympics news\",\n",
      "  \"location\": \"Paris\",\n",
      "  \"source\": \"news desk\",\n",
      "  \"os\": \"Windows\"\n",
      "}\u001b[0m\n",
      "\u001b[1m\u001b[35mObservation: This tool is not available.\u001b[0m\n",
      "\u001b[1m\u001b[32mThought: The latest_news tool is not available, so I will try to find the latest news updates from Paris Olympics using a web search.\u001b[0m\n",
      "\u001b[1m\u001b[36mAction Name: web_search\u001b[0m\n",
      "\u001b[1m\u001b[36mAction Input: {\n",
      "  \"query\": \"latest news Paris Olympics\",\n",
      "  \"location\": \"Paris\",\n",
      "  \"source\": \"news desk\"\n",
      "}\u001b[0m\n",
      "\u001b[1m\u001b[35mObservation: This tool is not available.\u001b[0m\n",
      "\u001b[1m\u001b[32mThought: The web_search tool is not available, so I will try to find the latest news updates from Paris Olympics using a general knowledge search.\u001b[0m\n",
      "\u001b[1m\u001b[36mAction Name: general_knowledge_search\u001b[0m\n",
      "\u001b[1m\u001b[36mAction Input: {\n",
      "  \"query\": \"Paris Olympics latest news updates\"\n",
      "}\u001b[0m\n",
      "\u001b[1m\u001b[35mObservation: This tool is not available.\u001b[0m\n",
      "\u001b[1m\u001b[32mThought: The general_knowledge_search tool is not available. I will try to find the latest news updates from Paris Olympics by suggesting some news websites that the user can check.\u001b[0m\n",
      "\u001b[1m\u001b[34mFinal Answer: You can check the latest news updates from Paris Olympics on the following news websites:\n",
      "\n",
      "* [BBC News](https://www.bbc.com/news)\n",
      "* [CNN News](https://www.cnn.com)\n",
      "* [Al Jazeera News](https://www.aljazeera.com)\n",
      "* [France 24 News](https://www.france24.com/en/)\n",
      "* [Official Paris Olympics Website](https://www.paris2024.org/en/)\n",
      "\n",
      "These websites often provide up-to-date news and information on various topics, including sports and the Olympics.\u001b[0m\n"
     ]
    }
   ],
   "source": [
    "input=\"What are the latest news updates from Paris Olympics, straight from the news desk? with source\"\n",
    "agent=ReactAgent('AI Agent','You are a helpful AI Assistant',[],tools=[],llm=llm,verbose=True)\n",
    "response=agent.invoke(input)"
   ]
  },
  {
   "cell_type": "code",
   "execution_count": 3,
   "metadata": {},
   "outputs": [
    {
     "data": {
      "text/markdown": [
       "You can check the latest news updates from Paris Olympics on the following news websites:\n",
       "\n",
       "* [BBC News](https://www.bbc.com/news)\n",
       "* [CNN News](https://www.cnn.com)\n",
       "* [Al Jazeera News](https://www.aljazeera.com)\n",
       "* [France 24 News](https://www.france24.com/en/)\n",
       "* [Official Paris Olympics Website](https://www.paris2024.org/en/)\n",
       "\n",
       "These websites often provide up-to-date news and information on various topics, including sports and the Olympics."
      ],
      "text/plain": [
       "<IPython.core.display.Markdown object>"
      ]
     },
     "metadata": {},
     "output_type": "display_data"
    }
   ],
   "source": [
    "display(Markdown(response))"
   ]
  }
 ],
 "metadata": {
  "kernelspec": {
   "display_name": "Python 3",
   "language": "python",
   "name": "python3"
  },
  "language_info": {
   "codemirror_mode": {
    "name": "ipython",
    "version": 3
   },
   "file_extension": ".py",
   "mimetype": "text/x-python",
   "name": "python",
   "nbconvert_exporter": "python",
   "pygments_lexer": "ipython3",
   "version": "3.12.5"
  }
 },
 "nbformat": 4,
 "nbformat_minor": 2
}
