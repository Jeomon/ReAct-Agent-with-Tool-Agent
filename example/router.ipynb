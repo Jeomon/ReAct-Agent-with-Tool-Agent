{
 "cells": [
  {
   "cell_type": "code",
   "execution_count": 2,
   "metadata": {},
   "outputs": [],
   "source": [
    "from src.router import LLMRouter\n",
    "from src.inference.groq import ChatGroq\n",
    "from os import environ\n",
    "from dotenv import load_dotenv\n",
    "load_dotenv()\n",
    "api_key=environ.get('GROQ_API_KEY')"
   ]
  },
  {
   "cell_type": "code",
   "execution_count": 3,
   "metadata": {},
   "outputs": [],
   "source": [
    "llm=ChatGroq('llama-3.1-70b-versatile',api_key,temperature=0)"
   ]
  },
  {
   "cell_type": "code",
   "execution_count": 5,
   "metadata": {},
   "outputs": [
    {
     "name": "stdout",
     "output_type": "stream",
     "text": [
      "Going to PACKAGE route\n"
     ]
    }
   ],
   "source": [
    "routes=[\n",
    "            {\n",
    "                'name':'update',\n",
    "                'description':'This route is used if the query is to update or modify an existing tool'\n",
    "            },\n",
    "            {\n",
    "                'name':'debug',\n",
    "                'description':'This route is used if the query is to fix errors or bugs that encountered when the tool is executed.'\n",
    "            },\n",
    "            {\n",
    "                'name':'generate',\n",
    "                'description':'This route is used if the query is to create new a tool'\n",
    "            },\n",
    "            {\n",
    "                'name':'package',\n",
    "                'description':'This route is used if the query is to install a missing module or library for the tool.'\n",
    "            }\n",
    "        ]\n",
    "llm_router=LLMRouter(routes=routes,llm=llm,verbose=True)\n",
    "route=llm_router.invoke('the System Information Tool to resolve the \\'No module named GPUtil\\' error. Ensure the tool can import the necessary modules to function correctly.')"
   ]
  },
  {
   "cell_type": "code",
   "execution_count": 6,
   "metadata": {},
   "outputs": [
    {
     "data": {
      "text/plain": [
       "'package'"
      ]
     },
     "execution_count": 6,
     "metadata": {},
     "output_type": "execute_result"
    }
   ],
   "source": [
    "route"
   ]
  }
 ],
 "metadata": {
  "kernelspec": {
   "display_name": "Python 3",
   "language": "python",
   "name": "python3"
  },
  "language_info": {
   "codemirror_mode": {
    "name": "ipython",
    "version": 3
   },
   "file_extension": ".py",
   "mimetype": "text/x-python",
   "name": "python",
   "nbconvert_exporter": "python",
   "pygments_lexer": "ipython3",
   "version": "3.12.5"
  }
 },
 "nbformat": 4,
 "nbformat_minor": 2
}
